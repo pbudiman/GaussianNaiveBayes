{
 "cells": [
  {
   "cell_type": "markdown",
   "metadata": {},
   "source": [
    "###### ### The University of Melbourne, School of Computing and Information Systems\n",
    "# COMP30027 Machine Learning, 2021 Semester 1\n",
    "\n",
    "## Assignment 1: Pose classification with naive Bayes\n"
   ]
  },
  {
   "cell_type": "markdown",
   "metadata": {},
   "source": [
    "**Student ID(s):**     `PLEASE ENTER YOUR ID(S) HERE`\n"
   ]
  },
  {
   "cell_type": "markdown",
   "metadata": {},
   "source": [
    "This iPython notebook is a template which you will use for your Assignment 1 submission.\n",
    "\n",
    "Marking will be applied on the four functions that are defined in this notebook, and to your responses to the questions at the end of this notebook (Submitted in a separate PDF file).\n",
    "\n",
    "**NOTE: YOU SHOULD ADD YOUR RESULTS, DIAGRAMS AND IMAGES FROM YOUR OBSERVATIONS IN THIS FILE TO YOUR REPORT (the PDF file).**\n",
    "\n",
    "You may change the prototypes of these functions, and you may write other functions, according to your requirements. We would appreciate it if the required functions were prominent/easy to find.\n",
    "\n",
    "**Adding proper comments to your code is MANDATORY. **"
   ]
  },
  {
   "cell_type": "code",
   "execution_count": 5,
   "metadata": {
    "scrolled": false
   },
   "outputs": [],
   "source": [
    "# This function should prepare the data by reading it from a file and converting it into a useful format for training and testing\n",
    "\n",
    "import numpy as np\n",
    "from collections import defaultdict\n",
    "import re\n",
    "from math import sqrt\n",
    "from math import exp\n",
    "from math import pow\n",
    "from math import pi\n",
    "from math import log\n",
    "import matplotlib.pyplot as plt\n",
    "%matplotlib inline\n",
    "\n",
    "\n",
    "def open_file(class_count_dict,class_dict, X, y):\n",
    "    f = open(\"COMP30027_2021_assignment1_data/train.csv\",'r')\n",
    "    n_instances = 0\n",
    "    for line in f.readlines()[0:]:\n",
    "        cleaned_line = line.strip().split(\",\")\n",
    "        attributes = cleaned_line[1:]\n",
    "        class_name = cleaned_line[0]\n",
    "        X.append(attributes)\n",
    "        y.append(class_name)\n",
    "        if class_dict.get(class_name) is None:\n",
    "            class_dict[class_name]=[]\n",
    "        # appending each\n",
    "        class_dict[class_name].append(attributes)\n",
    "        n_instances += 1\n",
    "        class_count_dict[cleaned_line[0]] += 1\n",
    "    f.close\n",
    "    return None\n",
    "\n",
    "#change all missing values from 9999 to 0 \n",
    "def remove_missing_values(X):\n",
    "    for i in range(len(X)):\n",
    "        for j in range(len(X[i])):\n",
    "            if X[i][j] == 9999:\n",
    "                X[i][j] = 0\n",
    "    return None\n",
    "\n",
    "#convert data type from string to float                \n",
    "def str_to_float(X):\n",
    "    for i in range(len(X)):\n",
    "        for j in range(len(X[i])):\n",
    "            X[i][j] = float(X[i][j])\n",
    "    return None"
   ]
  },
  {
   "cell_type": "code",
   "execution_count": 6,
   "metadata": {},
   "outputs": [],
   "source": [
    "# This function should calculate prior probabilities and likelihoods from the training data and using\n",
    "# them to build a naive Bayes model\n",
    "\n",
    "def mean(array):\n",
    "    return (sum(array)/len(array))\n",
    "\n",
    "def standard_deviation(array,mean_val):\n",
    "    total = 0\n",
    "    for one in array:\n",
    "        total+=(pow((one-mean_val),2))\n",
    "    result = sqrt(total/(len(array)-1))\n",
    "    return result\n",
    "\n",
    "def train(class_dict, class_count_dict,training_details,attr_length,total_inst):\n",
    "    \n",
    "    # dictionary format {key : [[means], [standard deviation], class_prob]}\n",
    "    for key in class_dict.keys():\n",
    "        \n",
    "        if training_details.get(key) is None:\n",
    "            training_details[key]=[]\n",
    "            \n",
    "        #array to store each attributes' mean value\n",
    "        mean_array=[]\n",
    "        \n",
    "        #array to store each standard deviations' value\n",
    "        std_dev_array=[]\n",
    "        \n",
    "        for i in range(attr_length):\n",
    "            attr_array = [instance[i] for instance in class_dict[key]]\n",
    "            \n",
    "            mean_val = mean(attr_array)\n",
    "            std_dev_val = standard_deviation(attr_array,mean_val) \n",
    "            \n",
    "            mean_array.append(mean_val)\n",
    "            std_dev_array.append(std_dev_val)\n",
    "        #append mean, standard deviation & class probability to training details dictionary\n",
    "        training_details[key].append(mean_array)\n",
    "        training_details[key].append(std_dev_array)\n",
    "        class_prob = class_count_dict[key]/total_inst\n",
    "        training_details[key].append(class_prob)\n",
    "    return\n"
   ]
  },
  {
   "cell_type": "code",
   "execution_count": 19,
   "metadata": {},
   "outputs": [],
   "source": [
    "# This function should predict classes for new items in a test dataset (for the purposes of this assignment, you\n",
    "# can re-use the training data as a test set)\n",
    "def gaussian_distribution(val,mean,std_dev):\n",
    "    exponential = exp(-(1/2)* (pow(((val-mean)/std_dev),2)))\n",
    "    result = (1/(std_dev * sqrt(2*pi)))* exponential\n",
    "    return result\n",
    "\n",
    "def take_log(val):\n",
    "    if(val==0):\n",
    "        return 0\n",
    "    else:\n",
    "        return log(val)\n",
    "\n",
    "def probability(instance,training_details,attr_num,class_num):\n",
    "    probs = defaultdict()\n",
    "    \n",
    "    #find the likelihood/probability of the instance in each class\n",
    "    for key in training_details.keys():\n",
    "        total_prob=0\n",
    "        sum_gaussian_prob=0\n",
    "        \n",
    "        # likelihood of the instance's attribute based on the class\n",
    "        for i in range(attr_num):\n",
    "            attr_mean = training_details[key][0][i]\n",
    "            attr_std_dev = training_details[key][1][i]\n",
    "            gauss_prob = gaussian_distribution(instance[i],attr_mean,attr_std_dev)\n",
    "            #take_log here to handle log(0) for now as log(0) cant be computed\n",
    "            sum_gaussian_prob+=take_log(gauss_prob)\n",
    "            \n",
    "        # probability of the instance being a class :  log(class prob) + sum(log(each attribute))\n",
    "        total_prob+=sum_gaussian_prob\n",
    "        class_prob=training_details[key][2]\n",
    "        total_prob+=log(class_prob)\n",
    "        \n",
    "        # put in dictionary\n",
    "        probs[key] = total_prob\n",
    "\n",
    "    return probs\n",
    "            \n",
    "def predict(training_details,attr_num,class_num,X_test,y_test):\n",
    "    #will need to read the test.csv , now just testing the functions on first instance of the test.csv below\n",
    "    sample_test=[126.8358,99.9275,0,0,47.5551,-9.7848,7.3779,-65.1004,-62.3788,-80.8448,-63.5874,2.4797,-14.5613,0,0,-30.3392,-41.2163,23.3146,57.5625,-24.693,61.5094,-34.0565]\n",
    "    \n",
    "    \n",
    "    f = open(\"COMP30027_2021_assignment1_data/test.csv\",'r')\n",
    "    for line in f.readlines()[0:]:\n",
    "        cleaned_line = line.strip().split(\",\")\n",
    "        attributes = cleaned_line[1:]\n",
    "        class_name = cleaned_line[0]\n",
    "        X_test.append(attributes)\n",
    "        y_test.append(class_name)\n",
    "    \n",
    "    f.close\n",
    "    \n",
    "    str_to_float(X_test)\n",
    "    remove_missing_values(X_test)\n",
    "    \n",
    "    predicted_classes=[]\n",
    "    for instance in X_test:\n",
    "        #probability dictionary for every classes on one test instance\n",
    "        probability_dict = probability(instance,training_details,attr_num,class_num)\n",
    "        #find the class name with the highest probability\n",
    "        max_prob_class = max(probability_dict, key=probability_dict.get)\n",
    "        predicted_classes.append(max_prob_class)\n",
    "    \n",
    "    return predicted_classes\n"
   ]
  },
  {
   "cell_type": "code",
   "execution_count": 20,
   "metadata": {},
   "outputs": [],
   "source": [
    "# This function should evaliate the prediction performance by comparing your model’s class outputs to ground\n",
    "# truth labels\n",
    "\n",
    "def evaluate(actual,predicted):\n",
    "    correct_predict=0\n",
    "    test_num=len(actual)\n",
    "    for i in range(test_num):\n",
    "        if(actual[i]==predicted[i]):\n",
    "            correct_predict+=1\n",
    "    \n",
    "    accuracy = (correct_predict / test_num) * 100\n",
    "    return accuracy"
   ]
  },
  {
   "cell_type": "code",
   "execution_count": 24,
   "metadata": {},
   "outputs": [
    {
     "name": "stdout",
     "output_type": "stream",
     "text": [
      "Accuracy is  73.27586206896551 %\n"
     ]
    }
   ],
   "source": [
    "#RUN HERE\n",
    "#store value of attributes per class\n",
    "X = []\n",
    "\n",
    "#store class belonging to a set of attributes\n",
    "y = []\n",
    "\n",
    "#store number of instances per class\n",
    "class_count_dict = defaultdict(int)\n",
    "\n",
    "#store all instances per class\n",
    "class_dict = defaultdict()\n",
    "\n",
    "#store the details of each class after training\n",
    "training_details = defaultdict()\n",
    "\n",
    "#number of attributes\n",
    "attr_num = 0\n",
    "\n",
    "#number of instances\n",
    "total_instances = 0\n",
    "\n",
    "open_file(class_count_dict,class_dict, X, y)\n",
    "str_to_float(X)\n",
    "remove_missing_values(X)\n",
    "\n",
    "attr_num = len(X[0])\n",
    "total_instances = sum([class_count_dict[key] for key in class_count_dict.keys()])\n",
    "\n",
    "#train the data\n",
    "train(class_dict, class_count_dict, training_details, attr_num, total_instances)\n",
    "\n",
    "# FOR TESTING INSTANCES\n",
    "X_test=[]\n",
    "#store actual class\n",
    "y_test=[]\n",
    "predicted_classes = predict(training_details,attr_num,len(training_details.keys()),X_test,y_test)\n",
    "\n",
    "accuracy = evaluate(y_test,predicted_classes)\n",
    "print(\"Accuracy is \", accuracy, \"%\")"
   ]
  },
  {
   "cell_type": "code",
   "execution_count": null,
   "metadata": {},
   "outputs": [],
   "source": []
  },
  {
   "cell_type": "markdown",
   "metadata": {},
   "source": [
    "## Questions \n",
    "\n",
    "\n",
    "If you are in a group of 1, you will respond to **two** questions of your choosing.\n",
    "\n",
    "If you are in a group of 2, you will respond to **four** questions of your choosing.\n",
    "\n",
    "A response to a question should take about 100–250 words, and make reference to the data wherever possible.\n",
    "\n",
    "#### NOTE: you may develope codes or functions to help respond to the question here, but your formal answer should be submitted separately as a PDF."
   ]
  },
  {
   "cell_type": "markdown",
   "metadata": {},
   "source": [
    "### Q1\n",
    "Since this is a multiclass classification problem, there are multiple ways to compute precision, recall, and F-score for this classifier. Implement at least two of the methods from the \"Model Evaluation\" lecture and discuss any differences between them. (The implementation should be your own and should not just call a pre-existing function.)"
   ]
  },
  {
   "cell_type": "code",
   "execution_count": null,
   "metadata": {
    "collapsed": true
   },
   "outputs": [],
   "source": []
  },
  {
   "cell_type": "markdown",
   "metadata": {},
   "source": [
    "### Q2\n",
    "The Gaussian naıve Bayes classifier assumes that numeric attributes come from a Gaussian distribution. Is this assumption always true for the numeric attributes in this dataset? Identify some cases where the Gaussian assumption is violated and describe any evidence (or lack thereof) that this has some effect on the classifier’s predictions."
   ]
  },
  {
   "cell_type": "code",
   "execution_count": null,
   "metadata": {
    "collapsed": true
   },
   "outputs": [],
   "source": []
  },
  {
   "cell_type": "markdown",
   "metadata": {},
   "source": [
    "### Q3\n",
    "Implement a kernel density estimate (KDE) naive Bayes classifier and compare its performance to the Gaussian naive Bayes classifier. Recall that KDE has kernel bandwidth as a free parameter -- you can choose an arbitrary value for this, but a value in the range 5-25 is recommended. Discuss any differences you observe between the Gaussian and KDE naive Bayes classifiers. (As with the Gaussian naive Bayes, this KDE naive Bayes implementation should be your own and should not just call a pre-existing function.)"
   ]
  },
  {
   "cell_type": "code",
   "execution_count": null,
   "metadata": {
    "collapsed": true
   },
   "outputs": [],
   "source": []
  },
  {
   "cell_type": "markdown",
   "metadata": {},
   "source": [
    "### Q4\n",
    "Instead of using an arbitrary kernel bandwidth for the KDE naive Bayes classifier, use random hold-out or cross-validation to choose the kernel bandwidth. Discuss how this changes the model performance compared to using an arbitrary kernel bandwidth."
   ]
  },
  {
   "cell_type": "code",
   "execution_count": null,
   "metadata": {
    "collapsed": true
   },
   "outputs": [],
   "source": []
  },
  {
   "cell_type": "markdown",
   "metadata": {},
   "source": [
    "### Q5\n",
    "Naive Bayes ignores missing values, but in pose recognition tasks the missing values can be informative. Missing values indicate that some part of the body was obscured and sometimes this is relevant to the pose (e.g., holding one hand behind the back). Are missing values useful for this task? Implement a method that incorporates information about missing values and demonstrate whether it changes the classification results."
   ]
  },
  {
   "cell_type": "code",
   "execution_count": null,
   "metadata": {
    "collapsed": true
   },
   "outputs": [],
   "source": []
  },
  {
   "cell_type": "markdown",
   "metadata": {},
   "source": [
    "### Q6\n",
    "Engineer your own pose features from the provided keypoints. Instead of using the (x,y) positions of keypoints, you might consider the angles of the limbs or body, or the distances between pairs of keypoints. How does a naive Bayes classifier based on your engineered features compare to the classifier using (x,y) values? Please note that we are interested in explainable features for pose recognition, so simply putting the (x,y) values in a neural network or similar to get an arbitrary embedding will not receive full credit for this question. You should be able to explain the rationale behind your proposed features. Also, don't forget the conditional independence assumption of naive Bayes when proposing new features -- a large set of highly-correlated features may not work well."
   ]
  },
  {
   "cell_type": "code",
   "execution_count": null,
   "metadata": {
    "collapsed": true
   },
   "outputs": [],
   "source": []
  }
 ],
 "metadata": {
  "kernelspec": {
   "display_name": "Python 3",
   "language": "python",
   "name": "python3"
  },
  "language_info": {
   "codemirror_mode": {
    "name": "ipython",
    "version": 3
   },
   "file_extension": ".py",
   "mimetype": "text/x-python",
   "name": "python",
   "nbconvert_exporter": "python",
   "pygments_lexer": "ipython3",
   "version": "3.7.3"
  }
 },
 "nbformat": 4,
 "nbformat_minor": 4
}
