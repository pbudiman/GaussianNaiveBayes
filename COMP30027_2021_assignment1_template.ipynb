{
 "cells": [
  {
   "cell_type": "markdown",
   "metadata": {},
   "source": [
    "###### ### The University of Melbourne, School of Computing and Information Systems\n",
    "# COMP30027 Machine Learning, 2021 Semester 1\n",
    "\n",
    "## Assignment 1: Pose classification with naive Bayes\n"
   ]
  },
  {
   "cell_type": "markdown",
   "metadata": {},
   "source": [
    "**Student ID(s):**     `PLEASE ENTER YOUR ID(S) HERE`\n"
   ]
  },
  {
   "cell_type": "markdown",
   "metadata": {},
   "source": [
    "This iPython notebook is a template which you will use for your Assignment 1 submission.\n",
    "\n",
    "Marking will be applied on the four functions that are defined in this notebook, and to your responses to the questions at the end of this notebook (Submitted in a separate PDF file).\n",
    "\n",
    "**NOTE: YOU SHOULD ADD YOUR RESULTS, DIAGRAMS AND IMAGES FROM YOUR OBSERVATIONS IN THIS FILE TO YOUR REPORT (the PDF file).**\n",
    "\n",
    "You may change the prototypes of these functions, and you may write other functions, according to your requirements. We would appreciate it if the required functions were prominent/easy to find.\n",
    "\n",
    "**Adding proper comments to your code is MANDATORY. **"
   ]
  },
  {
   "cell_type": "code",
   "execution_count": 109,
   "metadata": {
    "scrolled": false
   },
   "outputs": [],
   "source": [
    "# This function should prepare the data by reading it from a file and converting it into a useful format for training and testing\n",
    "\n",
    "import pandas as pd\n",
    "import numpy as np\n",
    "from collections import defaultdict\n",
    "import re\n",
    "from math import sqrt\n",
    "from math import exp\n",
    "from math import pow\n",
    "from math import pi\n",
    "from math import log\n",
    "import matplotlib.pyplot as plt\n",
    "%matplotlib inline\n",
    "\n",
    "def preprocess(columns):\n",
    "    \n",
    "    filename = \"COMP30027_2021_assignment1_data/train.csv\"\n",
    "    f = open(filename,'r')\n",
    "    \n",
    "    # impute missing values of 9999 to NaN\n",
    "    train_collection = pd.read_csv(filename,names = columns,na_values=[9999]) \n",
    "    \n",
    "    # number of instances of each class\n",
    "    train_instance_count = train_collection.groupby([\"class_name\"]).size().reset_index(name='size').set_index(\"class_name\")\n",
    "    \n",
    "    class_names = train_collection.class_name.unique()\n",
    "    \n",
    "    f.close\n",
    "    \n",
    "    return train_collection, train_instance_count, class_names\n",
    "    "
   ]
  },
  {
   "cell_type": "code",
   "execution_count": 287,
   "metadata": {},
   "outputs": [],
   "source": [
    "# This function should calculate prior probabilities and likelihoods from the training data and using\n",
    "# them to build a naive Bayes model\n",
    "\n",
    "def train(training_df,train_instance_count):\n",
    "    \n",
    "    # standard deviations of the attributes of each class\n",
    "    standard_devs = training_df.groupby([\"class_name\"]).std()\n",
    "    \n",
    "    # mean of the attributes of each class\n",
    "    means = training_df.groupby([\"class_name\"]).mean()\n",
    "    \n",
    "    # class probabilities of each class\n",
    "    class_priors = pd.DataFrame(train_instance_count['size'].div(float(len(training_df))))\n",
    "\n",
    "    return standard_devs, means, class_priors\n"
   ]
  },
  {
   "cell_type": "code",
   "execution_count": 298,
   "metadata": {},
   "outputs": [],
   "source": [
    "# This function should predict classes for new items in a test dataset (for the purposes of this assignment, you\n",
    "# can re-use the training data as a test set)\n",
    "\n",
    "def gaussian_distribution(val,mean,std_dev):\n",
    "    exponential = exp(-(1/2)* (pow(((val-mean)/std_dev),2)))\n",
    "    result = (1/(std_dev * sqrt(2*pi)))* exponential\n",
    "    return result\n",
    "\n",
    "#log to handle NaN and 0\n",
    "def take_log(val):\n",
    "    if(np.isnan(val) or val == 0):\n",
    "        return 0.0\n",
    "    else:\n",
    "        return log(val)\n",
    "\n",
    "# find the probability of the instance being classified as each class\n",
    "def probability(instance,means,std_dev,attr_num,class_priors,class_names):\n",
    "    \n",
    "    probs = defaultdict()\n",
    "    attributes = means.columns\n",
    "\n",
    "    for key in class_names:\n",
    "        total_probs = 0\n",
    "        sum_gaussian_probs = 0\n",
    "        \n",
    "        class_means = means.loc[key]\n",
    "        class_std_devs = std_dev.loc[key]\n",
    "        \n",
    "        for one_att in attributes:\n",
    "            #mean of that attribute\n",
    "            mean = class_means.loc[one_att]\n",
    "            \n",
    "            #standard deviation of that attribute\n",
    "            standard_dev = class_std_devs.loc[one_att]\n",
    "            \n",
    "            #find the gaussian probability of that attribute\n",
    "            gauss_prob = gaussian_distribution(instance.loc[one_att],mean,standard_dev)\n",
    "            \n",
    "            #sum(log(each attribute)\n",
    "            sum_gaussian_probs += take_log(gauss_prob)\n",
    "            \n",
    "        # probability of the instance being a class :  log(class prob) + sum(log(each attribute))\n",
    "        total_probs += sum_gaussian_probs\n",
    "        class_prob = class_priors.loc[key]\n",
    "        total_probs += log(class_prob)\n",
    "        \n",
    "        # put in dictionary\n",
    "        probs[key] = total_probs\n",
    "\n",
    "    return probs\n",
    "            \n",
    "def predict(means,std_dev,class_priors,class_names):\n",
    "    \n",
    "    filename = \"COMP30027_2021_assignment1_data/test.csv\"\n",
    "    f = open(filename,'r')\n",
    "    \n",
    "    # impute missing values with NaN\n",
    "    test_collection = pd.read_csv(filename, names = columns,na_values=[9999]) \n",
    "\n",
    "    attribute_num = len(test_collection.columns)-1\n",
    "    test_instance_num = len(test_collection)\n",
    "    predicted_class = []\n",
    "\n",
    "    for i in range(test_instance_num):\n",
    "        \n",
    "        # don't take the instance's actual class_name\n",
    "        instance = test_collection.iloc[i,1:]\n",
    "        \n",
    "        # dictionary contains the probability of the instance being in each classes \n",
    "        probability_dict = probability(instance,means,std_dev,attribute_num,class_priors,class_names)\n",
    "        \n",
    "        # find the class name with the highest probability\n",
    "        class_max_prob = max(probability_dict, key = probability_dict.get)\n",
    "        \n",
    "        # store the class name with the highest probability\n",
    "        predicted_class.append(class_max_prob)\n",
    "   \n",
    "    # add the predicted classes to the dataframe\n",
    "    test_collection['predicted_class'] = predicted_class  \n",
    "    \n",
    "    return test_collection\n",
    "\n",
    "    "
   ]
  },
  {
   "cell_type": "code",
   "execution_count": 326,
   "metadata": {},
   "outputs": [],
   "source": [
    "# This function should evaliate the prediction performance by comparing your model’s class outputs to ground\n",
    "# truth labels\n",
    "\n",
    "def evaluate(test_collection):\n",
    "    same = 0\n",
    "    instance_num = len(test_collection)\n",
    "    actual_class = test_collection['class_name']\n",
    "    predicted_class = test_collection['predicted_class']\n",
    "    \n",
    "    for i in range(instance_num):\n",
    "        if actual_class.at[i]==predicted_class.at[i]:\n",
    "            same+=1\n",
    "            \n",
    "    accuracy_percentage = (float(same)/float(instance_num))\n",
    "    \n",
    "    return accuracy_percentage"
   ]
  },
  {
   "cell_type": "code",
   "execution_count": 328,
   "metadata": {},
   "outputs": [
    {
     "name": "stdout",
     "output_type": "stream",
     "text": [
      "Accuracy is: 0.7155172413793104\n"
     ]
    }
   ],
   "source": [
    "#RUN HERE\n",
    "columns = [\"class_name\",\"x1\",\"x2\",\"x3\",\"x4\",\"x5\",\"x6\",\"x7\",\"x8\",\"x9\",\"x10\",\"x11\",\"y1\",\"y2\",\"y3\",\"y4\",\"y5\",\"y6\",\"y7\",\"y8\",\"y9\",\"y10\",\"y11\"]\n",
    "training_df = pd.DataFrame()\n",
    "train_instance_count = pd.DataFrame()\n",
    "class_names=[]\n",
    "\n",
    "training_df,train_instance_count,class_names = preprocess(columns)\n",
    "standard_devs, means, class_priors = train(training_df,train_instance_count)\n",
    "\n",
    "test_collection = predict(means,standard_devs,class_priors,class_names)\n",
    "\n",
    "accuracy = evaluate(test_collection)\n",
    "\n",
    "print(\"Accuracy is:\",accuracy)"
   ]
  },
  {
   "cell_type": "code",
   "execution_count": null,
   "metadata": {},
   "outputs": [],
   "source": []
  },
  {
   "cell_type": "markdown",
   "metadata": {},
   "source": [
    "## Questions \n",
    "\n",
    "\n",
    "If you are in a group of 1, you will respond to **two** questions of your choosing.\n",
    "\n",
    "If you are in a group of 2, you will respond to **four** questions of your choosing.\n",
    "\n",
    "A response to a question should take about 100–250 words, and make reference to the data wherever possible.\n",
    "\n",
    "#### NOTE: you may develope codes or functions to help respond to the question here, but your formal answer should be submitted separately as a PDF."
   ]
  },
  {
   "cell_type": "markdown",
   "metadata": {},
   "source": [
    "### Q1\n",
    "Since this is a multiclass classification problem, there are multiple ways to compute precision, recall, and F-score for this classifier. Implement at least two of the methods from the \"Model Evaluation\" lecture and discuss any differences between them. (The implementation should be your own and should not just call a pre-existing function.)"
   ]
  },
  {
   "cell_type": "code",
   "execution_count": null,
   "metadata": {
    "collapsed": true
   },
   "outputs": [],
   "source": []
  },
  {
   "cell_type": "markdown",
   "metadata": {},
   "source": [
    "### Q2\n",
    "The Gaussian naıve Bayes classifier assumes that numeric attributes come from a Gaussian distribution. Is this assumption always true for the numeric attributes in this dataset? Identify some cases where the Gaussian assumption is violated and describe any evidence (or lack thereof) that this has some effect on the classifier’s predictions."
   ]
  },
  {
   "cell_type": "code",
   "execution_count": null,
   "metadata": {
    "collapsed": true
   },
   "outputs": [],
   "source": []
  },
  {
   "cell_type": "markdown",
   "metadata": {},
   "source": [
    "### Q3\n",
    "Implement a kernel density estimate (KDE) naive Bayes classifier and compare its performance to the Gaussian naive Bayes classifier. Recall that KDE has kernel bandwidth as a free parameter -- you can choose an arbitrary value for this, but a value in the range 5-25 is recommended. Discuss any differences you observe between the Gaussian and KDE naive Bayes classifiers. (As with the Gaussian naive Bayes, this KDE naive Bayes implementation should be your own and should not just call a pre-existing function.)"
   ]
  },
  {
   "cell_type": "code",
   "execution_count": null,
   "metadata": {
    "collapsed": true
   },
   "outputs": [],
   "source": []
  },
  {
   "cell_type": "markdown",
   "metadata": {},
   "source": [
    "### Q4\n",
    "Instead of using an arbitrary kernel bandwidth for the KDE naive Bayes classifier, use random hold-out or cross-validation to choose the kernel bandwidth. Discuss how this changes the model performance compared to using an arbitrary kernel bandwidth."
   ]
  },
  {
   "cell_type": "code",
   "execution_count": null,
   "metadata": {
    "collapsed": true
   },
   "outputs": [],
   "source": []
  },
  {
   "cell_type": "markdown",
   "metadata": {},
   "source": [
    "### Q5\n",
    "Naive Bayes ignores missing values, but in pose recognition tasks the missing values can be informative. Missing values indicate that some part of the body was obscured and sometimes this is relevant to the pose (e.g., holding one hand behind the back). Are missing values useful for this task? Implement a method that incorporates information about missing values and demonstrate whether it changes the classification results."
   ]
  },
  {
   "cell_type": "code",
   "execution_count": null,
   "metadata": {
    "collapsed": true
   },
   "outputs": [],
   "source": []
  },
  {
   "cell_type": "markdown",
   "metadata": {},
   "source": [
    "### Q6\n",
    "Engineer your own pose features from the provided keypoints. Instead of using the (x,y) positions of keypoints, you might consider the angles of the limbs or body, or the distances between pairs of keypoints. How does a naive Bayes classifier based on your engineered features compare to the classifier using (x,y) values? Please note that we are interested in explainable features for pose recognition, so simply putting the (x,y) values in a neural network or similar to get an arbitrary embedding will not receive full credit for this question. You should be able to explain the rationale behind your proposed features. Also, don't forget the conditional independence assumption of naive Bayes when proposing new features -- a large set of highly-correlated features may not work well."
   ]
  },
  {
   "cell_type": "code",
   "execution_count": null,
   "metadata": {
    "collapsed": true
   },
   "outputs": [],
   "source": []
  }
 ],
 "metadata": {
  "kernelspec": {
   "display_name": "Python 3",
   "language": "python",
   "name": "python3"
  },
  "language_info": {
   "codemirror_mode": {
    "name": "ipython",
    "version": 3
   },
   "file_extension": ".py",
   "mimetype": "text/x-python",
   "name": "python",
   "nbconvert_exporter": "python",
   "pygments_lexer": "ipython3",
   "version": "3.7.3"
  }
 },
 "nbformat": 4,
 "nbformat_minor": 4
}
