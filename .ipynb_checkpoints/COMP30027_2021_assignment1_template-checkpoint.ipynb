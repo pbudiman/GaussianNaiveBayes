{
 "cells": [
  {
   "cell_type": "markdown",
   "metadata": {},
   "source": [
    "###### ### The University of Melbourne, School of Computing and Information Systems\n",
    "# COMP30027 Machine Learning, 2021 Semester 1\n",
    "\n",
    "## Assignment 1: Pose classification with naive Bayes\n"
   ]
  },
  {
   "cell_type": "markdown",
   "metadata": {},
   "source": [
    "**Student ID(s):**     `PLEASE ENTER YOUR ID(S) HERE`\n"
   ]
  },
  {
   "cell_type": "markdown",
   "metadata": {},
   "source": [
    "This iPython notebook is a template which you will use for your Assignment 1 submission.\n",
    "\n",
    "Marking will be applied on the four functions that are defined in this notebook, and to your responses to the questions at the end of this notebook (Submitted in a separate PDF file).\n",
    "\n",
    "**NOTE: YOU SHOULD ADD YOUR RESULTS, DIAGRAMS AND IMAGES FROM YOUR OBSERVATIONS IN THIS FILE TO YOUR REPORT (the PDF file).**\n",
    "\n",
    "You may change the prototypes of these functions, and you may write other functions, according to your requirements. We would appreciate it if the required functions were prominent/easy to find.\n",
    "\n",
    "**Adding proper comments to your code is MANDATORY. **"
   ]
  },
  {
   "cell_type": "code",
   "execution_count": 72,
   "metadata": {
    "scrolled": false
   },
   "outputs": [],
   "source": [
    "# This function should prepare the data by reading it from a file and converting it into a useful format for training and testing\n",
    "\n",
    "import numpy as np\n",
    "from collections import defaultdict\n",
    "import re\n",
    "import math \n",
    "import matplotlib.pyplot as plt\n",
    "%matplotlib inline\n",
    "\n",
    "\n",
    "def open_file(class_count_dict,class_dict, X, y):\n",
    "    f = open(\"COMP30027_2021_assignment1_data/train.csv\",'r')\n",
    "    n_instances = 0\n",
    "    for line in f.readlines()[0:]:\n",
    "        cleaned_line = line.strip().split(\",\")\n",
    "        attributes = cleaned_line[1:]\n",
    "        class_name = cleaned_line[0]\n",
    "        X.append(attributes)\n",
    "        y.append(class_name)\n",
    "        if class_dict.get(class_name) is None:\n",
    "            class_dict[class_name]=[]\n",
    "        class_dict[class_name].append(attributes)\n",
    "        n_instances += 1\n",
    "        class_count_dict[cleaned_line[0]] += 1\n",
    "    f.close\n",
    "    return None\n",
    "\n",
    "#change all missing values from 9999 to 0 \n",
    "def remove_missing_values(X):\n",
    "    for i in range(len(X)):\n",
    "        for j in range(len(X[i])):\n",
    "            if X[i][j] == 9999:\n",
    "                X[i][j] = 0\n",
    "    return None\n",
    "\n",
    "#convert data type from string to float                \n",
    "def str_to_float(X):\n",
    "    for i in range(len(X)):\n",
    "        for j in range(len(X[i])):\n",
    "            X[i][j] = float(X[i][j])\n",
    "    return None"
   ]
  },
  {
   "cell_type": "code",
   "execution_count": 81,
   "metadata": {},
   "outputs": [
    {
     "name": "stdout",
     "output_type": "stream",
     "text": [
      "bridge\n",
      "childs\n",
      "downwarddog\n",
      "mountain\n",
      "plank\n",
      "seatedforwardbend\n",
      "tree\n",
      "trianglepose\n",
      "warrior1\n",
      "warrior2\n",
      "bridge\n",
      "[[1.5589549382716055, 11.37745859259259, 3.6253604938271606, 25.532427160493828, 0.2028864197530865, -14.531665432098766, -17.23724827160494, -30.073332098765437, -0.931007407407409, 10.13882962962963, 10.337344444444449, 4.184724567901233, 5.33325456790123, -8.33625787654321, -11.289333333333335, -12.128519753086417, -18.12078938271605, 59.543545679012354, 47.07779802469136, -22.547658024691355, 21.15653271604938, -64.87328888888888], [124.4713265076303, 82.30603910428627, 42.18719731567468, 97.06112699764377, 37.99568695295806, 47.80609451813429, 167.13495036760293, 161.18640194430628, 111.18728010920337, 148.7501802004585, 192.8567940369524, 26.513453541026546, 48.78844755502937, 27.072395258790202, 37.156950823826314, 30.719032864660708, 32.80154709600035, 208.1334207530364, 206.8454593910649, 64.9404121820224, 48.39027797107928, 387.1418225078807], 0.10843373493975904]\n",
      "childs\n",
      "[[-2.2197652173913043, -2.4292871014492756, 4.269475362318841, 13.641300000000001, -1.9522004347826092, -4.262872463768117, -6.159162318840578, -2.2384927536231882, -13.061753623188405, 3.4856826086956527, 10.927079710144929, -0.9566833333333331, 19.320622318840584, -5.284327536231885, -10.351960869565218, -4.3193376811594195, -8.383320289855073, 24.702062318840575, -3.033607246376812, -4.082275362318841, -3.532317826086956, -4.078855072463768], [37.28220400208636, 40.25121266731985, 36.259250928918775, 62.87385117435307, 32.01787034250074, 57.008273717538465, 61.84039585134867, 38.58798171541893, 47.37428518471928, 27.580414366789547, 52.74694561206025, 9.414646853654132, 16.95889206234456, 16.479305690149005, 29.88999177035891, 9.125073339223439, 14.747491748814335, 24.84730721612269, 15.23804876292467, 8.871629473602018, 10.307304223976432, 7.693245594686139], 0.09236947791164658]\n",
      "downwarddog\n",
      "[[-2.531236504854369, -5.752278640776702, -7.724633495145631, -3.88045436893204, -8.16080918446602, -13.557700970873793, 4.4565903883495155, 6.207827184466019, 6.434900000000002, 10.12089504854369, 14.386890291262135, -0.8798796116504854, 26.729087038834948, -4.81716213592233, -20.549479611650483, -7.193482135922331, -21.34531553398058, 61.89210776699029, 10.083548291262142, -25.92433980582524, 20.72478980582524, -38.71987281553397], [22.271005881475325, 51.99296733066291, 46.582524213669274, 62.19421665592127, 38.90610989229075, 61.38616842431149, 42.194072486518365, 47.01429598007812, 68.53591269737034, 61.46019841953511, 85.10170550295493, 14.455057448928903, 33.23783022050403, 21.767863056683623, 44.81260695425276, 17.53041928025613, 37.08806372043609, 52.557117546432735, 32.06973525527615, 43.920072353634616, 52.707940276331065, 59.38448326077318], 0.13788487282463185]\n",
      "mountain\n",
      "[[-0.007175893750000032, -0.10833398125, -43.01669937500001, -50.895126875000024, 43.16918875000002, 51.10801693750001, -0.150617486, -16.732308749999994, -13.959189312499998, 16.62368812500001, 13.96856124999999, 156.44193749999994, 109.92795625000004, 64.60852812499999, 29.11103124999999, 64.74325625000002, 28.939961250000003, 9.9549948125, -72.35827562499999, -159.43400999999997, -72.36981125000003, -159.56557812499997], [2.9429559350834964, 2.257785351891351, 7.9896782491832115, 18.969063673197642, 7.97067830424011, 19.07296320533767, 1.3307441204050512, 3.742914996411648, 7.174475378452704, 3.7096264561879124, 6.9813384747476706, 19.582588431829148, 16.10293285506332, 15.385883195618117, 42.70567750333839, 15.185203389627782, 42.13332245119474, 16.103027890246615, 16.110206765991148, 17.872827022754635, 16.025911672580648, 17.942484815425725], 0.214190093708166]\n",
      "plank\n",
      "[[21.89204035087718, 13.378628070175441, 7.573638596491225, 12.572099473684213, 5.6530947368421085, 3.90052105263158, -9.03136949122807, -17.14254035087719, -24.857117543859648, -5.922538596491229, -8.016447368421048, 41.8224852631579, 43.926999999999985, -2.3882870175438597, -22.159589473684203, -4.084779649122807, -28.36589824561403, 24.37141578947369, -3.421539122807017, -28.37717894736842, 0.08596807017543892, -21.40959473684211], [104.45582809052053, 68.06225736129845, 57.165822866785525, 67.27111720550428, 60.39060080051311, 67.85892776752195, 40.83417766170581, 70.43608115209557, 125.6081195518414, 82.64829652411768, 138.31791176291526, 29.89230937398245, 20.976523217065107, 46.63054139752222, 68.5203096521824, 38.01327338769487, 63.328445402267945, 17.78734813717714, 18.680511945871586, 36.64355955782358, 22.08546904574779, 41.03551149292794], 0.07630522088353414]\n",
      "seatedforwardbend\n",
      "[[6.944347906976745, 2.3117730232558147, -32.73603902325582, -20.84990465116279, 25.27516674418605, 17.556797674418604, -11.580459534883719, -20.310837209302324, -31.405667441860462, 24.432772093023257, 40.36205581395349, 18.009093023255815, 31.569395348837208, -9.684227906976744, -14.737391627906975, -11.069144883720933, -15.030072093023255, 10.869143488372094, -2.559476744186047, -3.701258139534884, -2.2059767441860467, -1.4600976744186047], [74.46811100429832, 40.57517936512926, 93.02363507638553, 126.34756400956611, 72.57359388882224, 104.8586921914542, 84.46126108503704, 81.17290494218122, 160.00856912282427, 91.3492094189376, 188.75819773775623, 55.91239526908056, 28.752993770810438, 34.95197398348964, 47.06747120140826, 21.249631603253885, 42.15889584190656, 47.684700325725316, 20.894619433809552, 13.314548146459813, 21.025056392833473, 17.46760904250096], 0.05756358768406961]\n",
      "tree\n",
      "[[0.5455967164179104, 0.7453619402985072, -35.62364776119402, -11.51612880597015, 36.79930746268657, 14.073331343283579, -1.0083169701492534, -39.21671641791044, -1.7712816820895523, 35.54796119402985, 1.4245319402985073, 97.07094029850748, 61.93696865671642, 68.50495074626862, 93.12797462686568, 70.29030746268661, 98.6644731343284, -32.158461194029854, -89.80131940298507, -128.78440746268657, -96.11682089552235, -142.73461641791042], [8.997951192054844, 9.511160036476964, 23.76058014444754, 23.032760911444292, 26.28969034368919, 21.012273073449666, 5.227747680373877, 37.20796192974065, 10.85215063279523, 33.64418759275293, 5.238882361428107, 37.32934926656058, 31.12309793617775, 38.435188363605945, 51.435133739863836, 36.55446724367878, 50.81836232108871, 23.49792110972963, 38.37114446004587, 72.30518548871422, 35.87707403923189, 72.63256651544877], 0.08969210174029452]\n",
      "trianglepose\n",
      "[[-16.16435728813559, -9.24794576271186, -15.654844067796612, -19.816515254237284, 0.0667745762711872, 2.446071186440678, 9.079767627118644, -40.46877627118645, -74.71713728813559, 63.81505220338986, 100.66190169491526, 68.3730254237288, 47.080123728813554, 30.946315254237298, 20.0019406779661, 62.331310169491545, 75.67544067796611, 13.629423728813563, -47.092072881355925, -114.79780847457627, -45.3772406779661, -110.77045762711863], [72.16094984397112, 34.87781138056668, 39.29738120093778, 53.476555765703054, 38.41525055529017, 48.96655235303764, 56.21526821152594, 66.89384680506956, 91.3358783982314, 64.68122117758031, 87.72100550283128, 26.165670240600754, 20.740669996654326, 88.04444737491637, 139.69364243318816, 91.56090051743531, 138.7082296964177, 24.139134731402585, 17.93409243691477, 40.34197016912171, 22.052856113868938, 42.344856645924104], 0.07898259705488621]\n",
      "warrior1\n",
      "[[-0.4272920370370372, -0.5125325925925925, -10.960727777777775, -15.505297592592592, 12.927648529629632, 17.133773222222217, -2.082704814814816, -30.24031666666667, -51.581672222222224, 30.842801851851846, 50.40631666666667, 89.1903314814815, 54.89677222222222, 74.00061851851852, 88.32304629629628, 61.71925555555554, 77.59261111111111, -36.868072222222224, -69.29294074074076, -136.1171574074074, -70.81520185185187, -132.62927037037036], [20.235944423586478, 11.448363011580033, 31.76571350193991, 50.85738712714409, 29.487706544459492, 44.03738455914445, 15.784141961577424, 68.72015702774839, 105.05652355509409, 70.62034826509426, 105.8497024248413, 30.952156383603196, 24.40577834509624, 54.37248422127901, 82.18484977720976, 53.56019451224654, 74.80633516496755, 22.55289328447488, 31.79903404406005, 40.55935784311075, 29.77030059296143, 44.03645431441028], 0.07228915662650602]\n",
      "warrior2\n",
      "[[-2.5179005555555554, 0.00022448148148143839, -76.12632037037035, -119.80786481481479, 76.75471666666665, 118.22221111111111, -1.152517425925926, -76.04170555555557, -108.96160370370373, 74.5269648148148, 115.10379814814816, 107.84197777777776, 66.80626666666666, 69.21706851851852, 71.64403703703704, 66.94243518518518, 65.75249074074074, -32.94645370370371, -66.14399259259257, -136.54187407407414, -73.4296925925926, -139.14226111111105], [15.439411198394307, 6.279144640911314, 40.357311838149634, 63.8003970198097, 40.41780316138837, 64.03470425131857, 5.315068633325449, 42.95145342286756, 66.80553061340696, 42.29484359651921, 67.88895926907072, 9.278794949586826, 7.226784816719659, 6.2251730216410515, 12.199403308997676, 9.582791961659021, 20.299271500640238, 7.215926101933898, 17.373233167762802, 22.34982429224913, 17.70455119268161, 23.01635054191822], 0.07228915662650602]\n"
     ]
    }
   ],
   "source": [
    "# This function should calculate prior probabilities and likelihoods from the training data and using\n",
    "# them to build a naive Bayes model\n",
    "train_details=defaultdict()\n",
    "\n",
    "def mean(array):\n",
    "    return (sum(array)/len(array))\n",
    "\n",
    "def standard_deviation(array,mean_val):\n",
    "    total = 0\n",
    "    for one in array:\n",
    "        total+=(pow((one-mean_val),2))\n",
    "    result = math.sqrt(total/(len(array)-1))\n",
    "    return result\n",
    "\n",
    "def count_instances(class_count_dict):\n",
    "    total_inst=0\n",
    "    for key in class_count_dict.keys():\n",
    "        print(\"sfa\",class_count_dict[key])\n",
    "#         total_inst+=class_count_dict[key]\n",
    "    print(total_inst)\n",
    "    return total_inst\n",
    "\n",
    "def train(class_dict, class_count_dict,train_details,attr_length,total_inst):\n",
    "    \n",
    "    # [[means], [standard deviation], class_prob]\n",
    "    for key in class_dict.keys():\n",
    "        if train_details.get(key) is None:\n",
    "            train_details[key]=[]\n",
    "        mean_array=[]\n",
    "        std_dev_array=[]\n",
    "        print(key)\n",
    "        \n",
    "        for i in range(attr_length):\n",
    "            attr_array = [instance[i] for instance in class_dict[key]]\n",
    "            mean_val = mean(attr_array)\n",
    "            std_dev_val = standard_deviation(attr_array,mean_val) \n",
    "            mean_array.append(mean_val)\n",
    "            std_dev_array.append(std_dev_val)\n",
    "        train_details[key].append(mean_array)\n",
    "        train_details[key].append(std_dev_array)\n",
    "        class_prob = class_count_dict[key]/total_inst\n",
    "        train_details[key].append(class_prob)\n",
    "   \n",
    "    for key in train_details.keys():\n",
    "        print(key)\n",
    "        print(train_details[key])\n",
    "\n",
    "    return\n",
    "\n",
    "#store value of attributes per class\n",
    "X = []\n",
    "\n",
    "#store class belonging to a set of attributes\n",
    "y = []\n",
    "\n",
    "#store number of instances per class\n",
    "class_count_dict = defaultdict(int)\n",
    "class_dict = defaultdict()\n",
    "\n",
    "open_file(class_count_dict,class_dict, X, y)\n",
    "str_to_float(X)\n",
    "remove_missing_values(X)\n",
    "\n",
    "attr_num = len(X[0])\n",
    "total_instances = sum([class_count_dict[key] for key in class_count_dict.keys()])\n",
    "\n",
    "train(class_dict, class_count_dict, train_details, attr_num, total_instances)\n",
    "\n",
    "# for key in class_dict.keys():\n",
    "#     print(key)\n",
    "#     i=0;\n",
    "#     for data in class_dict[key]:\n",
    "#         print(data)\n",
    "#         i+=1;\n",
    "#     print(\"COUNT IS:\",i)"
   ]
  },
  {
   "cell_type": "code",
   "execution_count": null,
   "metadata": {},
   "outputs": [],
   "source": []
  },
  {
   "cell_type": "code",
   "execution_count": null,
   "metadata": {},
   "outputs": [],
   "source": []
  },
  {
   "cell_type": "code",
   "execution_count": null,
   "metadata": {
    "collapsed": true
   },
   "outputs": [],
   "source": [
    "# This function should predict classes for new items in a test dataset (for the purposes of this assignment, you\n",
    "# can re-use the training data as a test set)\n",
    "\n",
    "def predict():\n",
    "    return\n",
    "\n",
    "gaussian_prediciton(test instance)"
   ]
  },
  {
   "cell_type": "code",
   "execution_count": null,
   "metadata": {
    "collapsed": true
   },
   "outputs": [],
   "source": [
    "# This function should evaliate the prediction performance by comparing your model’s class outputs to ground\n",
    "# truth labels\n",
    "\n",
    "def evaluate():\n",
    "    return"
   ]
  },
  {
   "cell_type": "code",
   "execution_count": null,
   "metadata": {},
   "outputs": [],
   "source": [
    "main:\n",
    "    run preprocess\n",
    "    train\n",
    "    predict \n",
    "    evaluate"
   ]
  },
  {
   "cell_type": "markdown",
   "metadata": {},
   "source": [
    "## Questions \n",
    "\n",
    "\n",
    "If you are in a group of 1, you will respond to **two** questions of your choosing.\n",
    "\n",
    "If you are in a group of 2, you will respond to **four** questions of your choosing.\n",
    "\n",
    "A response to a question should take about 100–250 words, and make reference to the data wherever possible.\n",
    "\n",
    "#### NOTE: you may develope codes or functions to help respond to the question here, but your formal answer should be submitted separately as a PDF."
   ]
  },
  {
   "cell_type": "markdown",
   "metadata": {},
   "source": [
    "### Q1\n",
    "Since this is a multiclass classification problem, there are multiple ways to compute precision, recall, and F-score for this classifier. Implement at least two of the methods from the \"Model Evaluation\" lecture and discuss any differences between them. (The implementation should be your own and should not just call a pre-existing function.)"
   ]
  },
  {
   "cell_type": "code",
   "execution_count": null,
   "metadata": {
    "collapsed": true
   },
   "outputs": [],
   "source": []
  },
  {
   "cell_type": "markdown",
   "metadata": {},
   "source": [
    "### Q2\n",
    "The Gaussian naıve Bayes classifier assumes that numeric attributes come from a Gaussian distribution. Is this assumption always true for the numeric attributes in this dataset? Identify some cases where the Gaussian assumption is violated and describe any evidence (or lack thereof) that this has some effect on the classifier’s predictions."
   ]
  },
  {
   "cell_type": "code",
   "execution_count": null,
   "metadata": {
    "collapsed": true
   },
   "outputs": [],
   "source": []
  },
  {
   "cell_type": "markdown",
   "metadata": {},
   "source": [
    "### Q3\n",
    "Implement a kernel density estimate (KDE) naive Bayes classifier and compare its performance to the Gaussian naive Bayes classifier. Recall that KDE has kernel bandwidth as a free parameter -- you can choose an arbitrary value for this, but a value in the range 5-25 is recommended. Discuss any differences you observe between the Gaussian and KDE naive Bayes classifiers. (As with the Gaussian naive Bayes, this KDE naive Bayes implementation should be your own and should not just call a pre-existing function.)"
   ]
  },
  {
   "cell_type": "code",
   "execution_count": null,
   "metadata": {
    "collapsed": true
   },
   "outputs": [],
   "source": []
  },
  {
   "cell_type": "markdown",
   "metadata": {},
   "source": [
    "### Q4\n",
    "Instead of using an arbitrary kernel bandwidth for the KDE naive Bayes classifier, use random hold-out or cross-validation to choose the kernel bandwidth. Discuss how this changes the model performance compared to using an arbitrary kernel bandwidth."
   ]
  },
  {
   "cell_type": "code",
   "execution_count": null,
   "metadata": {
    "collapsed": true
   },
   "outputs": [],
   "source": []
  },
  {
   "cell_type": "markdown",
   "metadata": {},
   "source": [
    "### Q5\n",
    "Naive Bayes ignores missing values, but in pose recognition tasks the missing values can be informative. Missing values indicate that some part of the body was obscured and sometimes this is relevant to the pose (e.g., holding one hand behind the back). Are missing values useful for this task? Implement a method that incorporates information about missing values and demonstrate whether it changes the classification results."
   ]
  },
  {
   "cell_type": "code",
   "execution_count": null,
   "metadata": {
    "collapsed": true
   },
   "outputs": [],
   "source": []
  },
  {
   "cell_type": "markdown",
   "metadata": {},
   "source": [
    "### Q6\n",
    "Engineer your own pose features from the provided keypoints. Instead of using the (x,y) positions of keypoints, you might consider the angles of the limbs or body, or the distances between pairs of keypoints. How does a naive Bayes classifier based on your engineered features compare to the classifier using (x,y) values? Please note that we are interested in explainable features for pose recognition, so simply putting the (x,y) values in a neural network or similar to get an arbitrary embedding will not receive full credit for this question. You should be able to explain the rationale behind your proposed features. Also, don't forget the conditional independence assumption of naive Bayes when proposing new features -- a large set of highly-correlated features may not work well."
   ]
  },
  {
   "cell_type": "code",
   "execution_count": null,
   "metadata": {
    "collapsed": true
   },
   "outputs": [],
   "source": []
  }
 ],
 "metadata": {
  "kernelspec": {
   "display_name": "Python 3",
   "language": "python",
   "name": "python3"
  },
  "language_info": {
   "codemirror_mode": {
    "name": "ipython",
    "version": 3
   },
   "file_extension": ".py",
   "mimetype": "text/x-python",
   "name": "python",
   "nbconvert_exporter": "python",
   "pygments_lexer": "ipython3",
   "version": "3.7.3"
  }
 },
 "nbformat": 4,
 "nbformat_minor": 4
}
